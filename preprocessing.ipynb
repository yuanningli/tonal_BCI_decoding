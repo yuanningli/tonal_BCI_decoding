{
 "cells": [
  {
   "cell_type": "code",
   "execution_count": 6,
   "metadata": {
    "tags": []
   },
   "outputs": [
    {
     "data": {
      "text/plain": [
       "'\\nprint(sylb_temp_ecog_mat.shape)\\nsylb_elecs = pick_disc_electrodes(List=sylbList,mat=sylb_trainval, ecog_mat=sylb_temp_ecog_mat,thres_length=sylb_thres_length,\\n                                  channelNum=channelNum,P0=P0)\\n'"
      ]
     },
     "execution_count": 6,
     "metadata": {},
     "output_type": "execute_result"
    }
   ],
   "source": [
    "def get_timelocked_activity(times, hg, back, forward, hz=False):\n",
    "    '''\n",
    "    Get time-locked activity.\n",
    "\n",
    "    Parameters:\n",
    "    - times (array-like): List of timepoints in seconds.\n",
    "    - hg (numpy.ndarray): High gamma array, shaped (elecs_num, whole_duration*hz).\n",
    "    - back (float): Start time before the timepoints.\n",
    "    - forward (float): End time after the timepoints.\n",
    "    - hz (float, optional): Sampling rate of High gamma. Default is False.\n",
    "\n",
    "    Returns:\n",
    "    - Y_mat (numpy.ndarray): Time-locked activity array, shaped (trial_num, elecs_num, selected_duration*hz).\n",
    "    - back (int): Start time in samples (back*hz).\n",
    "    - forward (int): End time in samples (forward*hz).\n",
    "    '''\n",
    "    if hz:\n",
    "        times = (times*hz).astype(int)\n",
    "        back = int(back*hz)\n",
    "        forward = int(forward*hz)\n",
    "    times = times[times - back > 0]\n",
    "    times = times[times + forward < hg.shape[1]]\n",
    "\n",
    "    Y_mat = np.zeros((len(times),hg.shape[0], int(back + forward)), dtype=float)\n",
    "\n",
    "    for i, index in enumerate(times):\n",
    "        Y_mat[i, :, :] = hg[:, int(index-back):int(index+forward)]\n",
    "\n",
    "    return Y_mat,back,forward\n",
    "\n",
    "def read_ecog_mat(back,forward,mat,channelNum,key_elecs=[],key_label=[],oppolabel=False,key_sentence=[],opposentence=False, key_paragraph=[],oppoparagraph=False,\n",
    "                  hz=False, block=4):\n",
    "    '''\n",
    "    get ecog_mat based on defined parameters\n",
    "    \n",
    "    Parameters:\n",
    "    - mat : shaped(7,num_of_timepoints)\n",
    "    - hg (numpy.ndarray): High gamma array, shaped (elecs_num, whole_duration*hz).\n",
    "    - back (float): Start time before the timepoints.\n",
    "    - forward (float): End time after the timepoints.\n",
    "    - hz (float, optional): Sampling rate of High gamma. Default is False.\n",
    "    channelNum:number of electrodes 128 or 256\n",
    "    block:number of blocks included, usually from 1 to 4\n",
    "    key_elecs: selected elecs\n",
    "    kay_labels:selected labels, opplabel means oppose the key_label\n",
    "    sentence and paragraphs similarly\n",
    "    '''\n",
    "\n",
    "    key_elecs = np.array(key_elecs)\n",
    "    key_index = np.ones(len(mat[0,:])).astype('bool')\n",
    "    \n",
    "    sentence_index = np.ones(len(mat[0,:])).astype('bool')\n",
    "    label_index = np.ones(len(mat[0,:])).astype('bool')\n",
    "    paragraph_index = np.ones(len(mat[0,:])).astype('bool')  \n",
    "    \n",
    "    if key_label:\n",
    "        print('select label:'+str(key_label),end=' ')\n",
    "        label_index=~label_index\n",
    "        for i in key_label:\n",
    "            temp_index = mat[0,:] ==i\n",
    "            label_index = np.logical_or(label_index, temp_index)\n",
    "        if oppolabel:\n",
    "            print('oppo')\n",
    "            label_index=~label_index\n",
    "    key_index = np.logical_and(label_index, key_index)\n",
    "    if key_sentence:\n",
    "        print('select sentence:'+str(key_sentence),end=' ')\n",
    "        sentence_index=~sentence_index\n",
    "        for i in key_sentence:\n",
    "            temp_index = mat[2,:] ==i\n",
    "            sentence_index = np.logical_or(sentence_index, temp_index)\n",
    "        if opposentence:\n",
    "            print('oppo')\n",
    "            sentence_index=~sentence_index\n",
    "    key_index = np.logical_and(sentence_index, key_index)        \n",
    "    if key_paragraph:\n",
    "        print('select paraqraph:'+str(key_paragraph),end=' ')\n",
    "        paragraph_index=~paragraph_index\n",
    "        for i in key_paragraph:\n",
    "            temp_index = mat[3,:] ==i\n",
    "            paragraph_index = np.logical_or(paragraph_index, temp_index)\n",
    "        if oppoparagraph:\n",
    "            print('oppo')\n",
    "            paragraph_index=~paragraph_index\n",
    "    key_index = np.logical_and(paragraph_index, key_index)      \n",
    "    mat = mat[:,key_index]\n",
    "       \n",
    "    \n",
    "    if key_elecs.any():\n",
    "        ecog_mat = np.zeros((len(mat[0,:]),len(key_elecs), int((back+forward)*hz)), dtype=float)\n",
    "        print('select elecs:'+str(key_elecs),end=' ')\n",
    "    else:\n",
    "        ecog_mat = np.zeros((len(mat[0,:]),channelNum, int((back+forward)*hz)), dtype=float)\n",
    "        \n",
    "    for i in range(block):\n",
    "        block_index= mat[4,:]==i+1\n",
    "        temp_time_list=mat[1,block_index]\n",
    "        ecogData=scio.loadmat(path_raw+str(i+1)+filterType+'.mat')#################################\n",
    "        ecogData=np.array(ecogData['bands'])*10e4\n",
    "        #print('###',np.nanmean(np.max(ecogData,axis=1)-np.min(ecogData,axis=1)),np.array(np.max(ecogData,axis=1)).shape)######################################################################################\n",
    "        temp_ecog,back_duration,forward_duration = get_timelocked_activity(times=temp_time_list, hg=ecogData, back=back, forward=forward, hz=hz)\n",
    "        if key_elecs.any():\n",
    "            key_elecs = np.array(key_elecs)\n",
    "            ecog_mat[block_index] = temp_ecog[:,key_elecs,:]\n",
    "        else:\n",
    "            ecog_mat[block_index] = temp_ecog\n",
    "\n",
    "    print('read_ecog:',ecog_mat.shape)\n",
    "    return ecog_mat,back_duration,forward_duration,mat\n",
    "\n",
    "'''\n",
    "EXAMPLE:\n",
    "ecog_mat,back_duration,forward_duration,mat = read_ecog_mat(back,forward,mat,channelNum,key_elecs=[],\n",
    "                key_label=[],oppolabel=False,key_sentence=[],opposentence=False, key_paragraph=[],oppoparagraph=False,\n",
    "                hz=False, block=4)\n",
    "'''\n",
    "\n",
    "def read_one_ecog(back,forward,time_list,block_list,channelNum, key_sentence, key_paragraph,\n",
    "                  sentence_list,paragraph_list,key_elecs=[], hz=False,block=4):\n",
    "    time_list =np.array(time_list)\n",
    "    block_list = np.array(block_list)\n",
    "\n",
    "    sentence_list = np.array(sentence_list)\n",
    "    sentence_index=sentence_list==key_sentence\n",
    "    paragraph_list = np.array(paragraph_list)\n",
    "    paragraph_index=paragraph_list==key_paragraph\n",
    "    key_index = np.logical_and(sentence_index, paragraph_index)\n",
    "        \n",
    "\n",
    "    time_list = time_list[key_index]\n",
    "    block_list = block_list[key_index]\n",
    "    block_chosen = block_list[0]\n",
    "    ecogData=scio.loadmat(path_raw+str(block_chosen)+filterType+'.mat')\n",
    "    ecogData=np.array(ecogData['bands'])*10e4  #amplitude the HG by 10e4\n",
    "    temp_ecog,_,_ = get_timelocked_activity(times=time_list, hg=ecogData, \n",
    "                                                                        back=back, forward=forward, hz=hz)      \n",
    "    if key_elecs:\n",
    "        key_elecs = np.array(key_elecs)\n",
    "        ecog_mat = temp_ecog[:,key_elecs,:]\n",
    "    else:\n",
    "        ecog_mat = temp_ecog\n",
    "\n",
    "    #print(ecog_mat.shape)\n",
    "    return ecog_mat\n",
    "def nansem(a, axis=1):\n",
    "    return np.nanstd(a, axis=axis)/np.sqrt(a.shape[axis])\n",
    "def plot_filled_sem(a, xvals, ax=None, color=None, ylim=None):\n",
    "    if ax is None:\n",
    "        fig, ax = plt.subplots()\n",
    "    mean = np.nanmean(a, axis=0)\n",
    "    sem = nansem(a, axis=0)\n",
    "    \n",
    "    ax.axvline(0, color='gray', linewidth=0.5)\n",
    "    ax.axhline(0, color='gray', linewidth=0.5)\n",
    "\n",
    "    if color is not None:\n",
    "        h = ax.fill_between(xvals, mean-sem, mean+sem, alpha=0.6, color=color)\n",
    "    else:\n",
    "        h = ax.fill_between(xvals, mean-sem, mean+sem, alpha=0.6,)\n",
    "        \n",
    "    if ylim is not None:\n",
    "        ax.set(ylim=ylim)\n",
    "    ax.set(xlim=(xvals[0], xvals[-1]))\n",
    "    ax.spines['right'].set_visible(False)\n",
    "    ax.spines['top'].set_visible(False)\n",
    "    return ax\n",
    "\n",
    "def plot_legend(List, color_list,save = False):\n",
    "    if color_list is False:\n",
    "        color_list = plt.cm.tab10.colors[:len(List)]\n",
    "    # Create a figure and axis\n",
    "    fig, ax = plt.subplots(figsize=(0.4, 1))\n",
    "\n",
    "    # Turn off axis for a cleaner plot without actual data\n",
    "    ax.axis('off')\n",
    "\n",
    "    # Plot each color as a square with the corresponding name for the legend\n",
    "    for i, (color, label) in enumerate(zip(color_list, List)):\n",
    "        ax.scatter([], [], c=[color], label=label, marker='s', s=100)  # Adjust 's' for marker size\n",
    "    # Create the legend with the specified names and colors, adjust the legend position\n",
    "    ax.legend(loc='center', bbox_to_anchor=(0.5, 0.5), frameon=False)\n",
    "    # Save the figure as SVG with a transparent background\n",
    "    if save:\n",
    "        fig.savefig(str(List)+'legend.svg', transparent=True)\n",
    "    # Show the plot (optional)\n",
    "    plt.show()\n",
    "    return(color_list)\n",
    "'''\n",
    "EXAMPLE\n",
    "plot_legend(sylbList, color_list = False)\n",
    "'''\n",
    "def ERP_figure(matlist,color_list=['r','g','b']):\n",
    "    fig, axs = plt.subplots(int(channelNum/8), 8, figsize=(25, int(channelNum*25/128)))\n",
    "    xvals = np.linspace(-1.5, 1.5, matlist[0].shape[2])\n",
    "    pidx = channelNum-1\n",
    "    for i in range(int(channelNum/8)):\n",
    "        for j in range(8):\n",
    "            color_index = 0\n",
    "            for ecog_mat in matlist:\n",
    "                a = ecog_mat[:,pidx,:]\n",
    "                for k in range(a.shape[0]):\n",
    "                    a[k,:]-=np.nanmean(a[k,:])\n",
    "                    a[k,:]/=np.nanstd(a[k,:])\n",
    "                plot_filled_sem(a, xvals, ax= axs[i,j] ,ylim=(-1, 3), color=color_list[color_index])\n",
    "                color_index+=1\n",
    "\n",
    "            ax=axs[i,j].twinx()\n",
    "            ax.set_yticks([])\n",
    "            ax.set_ylim(-1,3)\n",
    "            ax.text(0.55, 0.85, str(pidx+1), transform=ax.transAxes)\n",
    "            pidx -=1\n",
    "    plt.savefig('ERPAll.png')\n",
    "    \n",
    "def single_elecs_ERP(matlist,pidx, window, sig_flag = False,color_list=['y','g','b']):\n",
    "    fig, ax = plt.subplots(figsize=(2, 1.5))\n",
    "    xvals = np.linspace(window[0], window[-1], matlist[0].shape[2]) \n",
    "    ax.set(xlabel=\"Time (s)\", ylabel=\"High-gamma \\n(z-score)\")\n",
    "    color_index = 0\n",
    "    for ecog_mat in matlist:\n",
    "        a = ecog_mat[:,pidx,:]\n",
    "        for k in range(a.shape[0]):\n",
    "            a[k,:]-=np.nanmean(a[k,:])\n",
    "            a[k,:]/=np.nanstd(a[k,:])\n",
    "        plot_filled_sem(a, xvals, ax= ax ,ylim=(-0.6, 1.2), color=color_list[color_index])\n",
    "        color_index+=1\n",
    "    ax=ax.twinx()\n",
    "    ax.set_yticks([])\n",
    "    ax.set_ylim(-0.6,1.2)################-1to1############\n",
    "    ax.set(yticklabels=[], xticklabels=window, xticks=window)\n",
    "    #ax.grid(True) \n",
    "    if sig_flag is not False:\n",
    "        y_coordinate = -0.3\n",
    "        indices_of_true = np.where(sig_flag)[0]\n",
    "        #print(indices_of_true)\n",
    "        ax = sns.scatterplot(x=xvals[indices_of_true], y=[y_coordinate]*len(indices_of_true),s = 10,\n",
    "                        color='black', lw=0.1)\n",
    "    #ax.text(0.55, 0.85, 'HS31 channel '+str(pidx+1), transform=ax.transAxes)\n",
    "    plt.title(str(pidx+1))\n",
    "    if save is not False:\n",
    "        if pidx in save:\n",
    "            #print('save:', pidx)\n",
    "            plt.savefig(str(pidx+1)+\"_onset.svg\", format=\"svg\", dpi=300)\n",
    "    plt.show()\n",
    "\n",
    "def pick_resp_electrodes(baso_ecog_mat,resp_ecog_mat,thres_length,channelNum,P0):\n",
    "    #use baso_ecog_mat and resp_ecog_mat to generate list of responsive elecs\n",
    "    sig_elecs = []\n",
    "    thres_len = int(thres_length*hz) #significance for continous thres_len*10ms\n",
    "    thres = P0/thres_len/channelNum  #bonferroni correction\n",
    "    matlist = [resp_ecog_mat,]\n",
    "    for pidx in tqdm(range(int(channelNum))):\n",
    "        b = baso_ecog_mat[:,pidx].reshape(1,-1)  #get baseline\n",
    "        c = resp_ecog_mat.shape[2]\n",
    "        sig_flag = np.zeros(c)\n",
    "        for t in range(c):\n",
    "            d = resp_ecog_mat[:,pidx,t].reshape(1,-1) #t-test for every timepoint\n",
    "            p_val = stats.ttest_ind(b[:, ~np.isnan(b).any(axis=0)].T,\n",
    "                                    d[:, ~np.isnan(d).any(axis=0)].T).pvalue\n",
    "            if p_val < thres:\n",
    "                sig_flag[t] = 1\n",
    "        is_sig = False\n",
    "        for k in range(c-thres_len+1): \n",
    "            if np.sum(sig_flag[k:k+thres_len]) > thres_len-1:\n",
    "                is_sig = True\n",
    "        if is_sig == True:\n",
    "            sig_elecs.append(pidx)\n",
    "            if plot:\n",
    "                single_elecs_ERP(matlist,pidx,[-sylb_back,0,sylb_forward],sig_flag,color_list=['y','g','b'])\n",
    "            \n",
    "    print('resp_elecs:',sig_elecs)\n",
    "        \n",
    "    return sig_elecs\n",
    "\n",
    "'''\n",
    "        resp_elecs = pick_resp_electrodes(baso_ecog_mat=baso_ecog_mat,resp_ecog_mat=sylb_temp_ecog_mat,\n",
    "                             thres_length = overt_thres_length,channelNum=channelNum,P0=P0)\n",
    "'''\n",
    "def pick_disc_electrodes2(List, mat, ecog_mat, thres_length,channelNum,P0=0.05,row=0):\n",
    "    color_list = plot_legend(List, color_list = False)\n",
    "    disc_elecs = []\n",
    "    thres_len = int(thres_length*hz) #half of the timepoints within this duration is significance\n",
    "    threshold = P0/thres_len*2/channelNum # #correction\n",
    "    sig_elecs = []\n",
    "    matlist = []\n",
    "    for ch in range(len(List)):\n",
    "        matlist.append(ecog_mat[mat[row,:] == ch,:,:])\n",
    "\n",
    "    for pidx in tqdm(range(int(channelNum))):\n",
    "        matlist[0][:,pidx,:]\n",
    "        c = matlist[0].shape[2]\n",
    "        sig_flag = np.zeros(c)\n",
    "        for t in range(c):\n",
    "            b0 = matlist[0][:,pidx,t].reshape(1,-1)\n",
    "            b1 = matlist[1][:,pidx,t].reshape(1,-1)\n",
    "            b2 = matlist[2][:,pidx,t].reshape(1,-1)\n",
    "            b3 = matlist[3][:,pidx,t].reshape(1,-1)\n",
    "            b4 = matlist[4][:,pidx,t].reshape(1,-1)\n",
    "            b5 = matlist[5][:,pidx,t].reshape(1,-1)\n",
    "            b6 = matlist[6][:,pidx,t].reshape(1,-1)\n",
    "            b7 = matlist[7][:,pidx,t].reshape(1,-1)\n",
    "            b8 = matlist[8][:,pidx,t].reshape(1,-1)\n",
    "            b9 = matlist[9][:,pidx,t].reshape(1,-1)\n",
    "            \n",
    "            p_val = stats.f_oneway(b0[:, ~np.isnan(b0).any(axis=0)].T,\n",
    "                                    b1[:, ~np.isnan(b1).any(axis=0)].T,\n",
    "                                    b2[:, ~np.isnan(b2).any(axis=0)].T,\n",
    "                                    b3[:, ~np.isnan(b3).any(axis=0)].T,\n",
    "                                    b4[:, ~np.isnan(b4).any(axis=0)].T,\n",
    "                                    b5[:, ~np.isnan(b5).any(axis=0)].T,\n",
    "                                    b6[:, ~np.isnan(b6).any(axis=0)].T,\n",
    "                                    b7[:, ~np.isnan(b7).any(axis=0)].T,\n",
    "                                    b8[:, ~np.isnan(b8).any(axis=0)].T,\n",
    "                                    b9[:, ~np.isnan(b9).any(axis=0)].T).pvalue #anova test\n",
    "\n",
    "            if p_val < threshold:\n",
    "                sig_flag[t] = 1\n",
    "        is_sig = False\n",
    "        for k in range(c-thres_len+1):\n",
    "            if np.sum(sig_flag[k:k+thres_len]) > thres_len/2:\n",
    "                is_sig = True\n",
    "        if is_sig == True:\n",
    "            sig_elecs.append(pidx)\n",
    "            if plot:\n",
    "                single_elecs_ERP(matlist,pidx,[-sylb_back,0,sylb_forward],sig_flag,color_list=color_list)\n",
    "                \n",
    "    disc_elecs=sig_elecs\n",
    "\n",
    "    print('disc_elecs:',set(disc_elecs))\n",
    "    disc_elecs = np.array(disc_elecs) \n",
    "    return disc_elecs\n",
    "\n",
    "'''\n",
    "print(sylb_temp_ecog_mat.shape)\n",
    "sylb_elecs = pick_disc_electrodes(List=stlbList,mat=sylb_trainval, ecog_mat=sylb_temp_ecog_mat,thres_length=sylb_thres_length,\n",
    "                                  channelNum=channelNum,P0=P0)\n",
    "'''\n",
    "def pick_disc_electrodes3(List, mat, ecog_mat, thres_length,channelNum,P0=0.05,row=0):\n",
    "    color_list = plot_legend(List, color_list = False)\n",
    "    disc_elecs = []\n",
    "    thres_len = int(thres_length*hz) \n",
    "    threshold = P0/thres_len*2/channelNum\n",
    "    sig_elecs = []\n",
    "    matlist = []\n",
    "    for ch in range(len(List)):\n",
    "        matlist.append(ecog_mat[mat[row,:] == ch,:,:])\n",
    "    \n",
    "    for pidx in tqdm(range(int(channelNum))):\n",
    "        matlist[0][:,pidx,:]\n",
    "        c = matlist[0].shape[2]\n",
    "        sig_flag = np.zeros(c)\n",
    "        for t in range(c):\n",
    "            b0 = matlist[0][:,pidx,t].reshape(1,-1)\n",
    "            b1 = matlist[1][:,pidx,t].reshape(1,-1)\n",
    "            b2 = matlist[2][:,pidx,t].reshape(1,-1)\n",
    "            b3 = matlist[3][:,pidx,t].reshape(1,-1)\n",
    "            \n",
    "            p_val = stats.f_oneway(b0[:, ~np.isnan(b0).any(axis=0)].T,\n",
    "                                    b1[:, ~np.isnan(b1).any(axis=0)].T,\n",
    "                                    b2[:, ~np.isnan(b2).any(axis=0)].T,\n",
    "                                    b3[:, ~np.isnan(b3).any(axis=0)].T).pvalue #anova\n",
    "\n",
    "            if p_val < threshold:\n",
    "                sig_flag[t] = 1\n",
    "        is_sig = False\n",
    "        for k in range(c-thres_len+1): \n",
    "            if np.sum(sig_flag[k:k+thres_len]) > thres_len/2:\n",
    "                is_sig = True\n",
    "        if is_sig == True:\n",
    "            sig_elecs.append(pidx)\n",
    "            if plot:\n",
    "                single_elecs_ERP(matlist,pidx,[-tone_back,0,tone_forward],sig_flag,color_list=color_list)\n",
    "            \n",
    "    disc_elecs=sig_elecs\n",
    "\n",
    "    print('disc_elecs:',set(disc_elecs))\n",
    "    disc_elecs = np.array(disc_elecs) \n",
    "    return disc_elecs\n",
    "\n",
    "'''\n",
    "print(sylb_temp_ecog_mat.shape)\n",
    "sylb_elecs = pick_disc_electrodes(List=sylbList,mat=sylb_trainval, ecog_mat=sylb_temp_ecog_mat,thres_length=sylb_thres_length,\n",
    "                                  channelNum=channelNum,P0=P0)\n",
    "'''"
   ]
  },
  {
   "cell_type": "code",
   "execution_count": 2,
   "metadata": {
    "tags": []
   },
   "outputs": [
    {
     "name": "stdout",
     "output_type": "stream",
     "text": [
      "1119\n"
     ]
    }
   ],
   "source": [
    "#import transformers\n",
    "#from transformers import BertModel, BertTokenizer, AdamW, get_linear_schedule_with_warmup\n",
    "import warnings\n",
    "warnings.filterwarnings('ignore')\n",
    "\n",
    "from collections import defaultdict\n",
    "from einops import rearrange, repeat\n",
    "from einops.layers.torch import Rearrange\n",
    "\n",
    "import h5py\n",
    "import json\n",
    "\n",
    "import math\n",
    "import matplotlib\n",
    "import matplotlib.pyplot as plt\n",
    "import numpy as np\n",
    "\n",
    "import os\n",
    "\n",
    "import pandas as pd\n",
    "\n",
    "from random import shuffle,randint\n",
    "\n",
    "from scipy.fftpack import fft\n",
    "import scipy.stats as stats\n",
    "import scipy.io as scio\n",
    "from scipy.io import wavfile\n",
    "from scipy import signal\n",
    "import seaborn as sns\n",
    "from sklearn.model_selection import train_test_split\n",
    "from sklearn.metrics import confusion_matrix, ConfusionMatrixDisplay, classification_report\n",
    "\n",
    "\n",
    "from tqdm import tqdm\n",
    "from torchmetrics.functional import word_error_rate as wer\n",
    "from textwrap import wrap\n",
    "import textgrid as tg\n",
    "from torch.utils.data import Dataset, DataLoader\n",
    "import torch.nn.functional as F\n",
    "import torch\n",
    "from torch import nn, optim, einsum\n",
    "import torch.utils.data as Data\n",
    "from torch.utils.data import DataLoader,TensorDataset\n",
    "import wave\n",
    "\n",
    "\n",
    "RANDOM_SEED = 42\n",
    "np.random.seed(RANDOM_SEED)\n",
    "torch.manual_seed(RANDOM_SEED)\n",
    "#device = torch.device(\"cuda:0\" if torch.cuda.is_available() else \"cpu\")\n",
    "device = 'cpu'\n",
    "date='1119'\n",
    "print(date)\n",
    "subject = 'PA4'"
   ]
  },
  {
   "cell_type": "code",
   "execution_count": 3,
   "metadata": {
    "tags": []
   },
   "outputs": [],
   "source": [
    "path_raw='./Raw/B'\n",
    "sylbList = ['shi', 'de', 'ji', 'li', 'bu', 'ge', 'qi', 'zhe', 'ta', 'zhi']\n",
    "stateList=['silent','speech']\n",
    "toneList = ['1','2','3','4']\n",
    "charList =  ['失', '十', '时', '实', '是', '的', '地', '得', '机', '激',\n",
    "            '极', '记', '计', '迹', '离', '里', '理', '励', '荔', '不',\n",
    "            '布', '哥', '搁', '个', '七', '奇', '其', '起', '契', '折',\n",
    "            '者', '这', '他', '塔', '织', '枝', '职', '止', '置', '智']\n",
    "hz = 400 #sampling rate of the highgamma band\n",
    "filterType = '_70_150' #\n",
    "interval = 0.01 #generate a speech/rest state label for every 0.01 second\n",
    "earlystart = 2  #clip 2s before sentence onset "
   ]
  },
  {
   "cell_type": "code",
   "execution_count": 7,
   "metadata": {
    "tags": []
   },
   "outputs": [
    {
     "name": "stdout",
     "output_type": "stream",
     "text": [
      "<TextGrid None, 3 Tiers>\n",
      "ta1他24.2053ge1哥25.07445bu4不26.36158li3理27.52608ta1他28.61417ta1他33.95785de4的34.73662li4荔35.69865zhi1枝36.42733qi1七37.7808zhe2折39.46785qi3起40.52276zhe4这46.39973li3里47.27476de1的48.42044ta3塔49.33514shi4是50.47258ge4个51.71717qi2奇52.79691ji4迹54.15458ta1他59.7114ji2极60.75818qi2其61.94507ji1机62.9836zhi4智64.25292zhi3止69.56057zhi4智70.13313zhe3者70.73897bu4不72.03301de1得73.04682bu4不74.28316li2离75.55643zhi2职76.65265ta1他81.78302qi2其82.78034shi2实83.83535bu4不85.11266zhi3止86.06877qi1七87.31336shi2十88.46728zhi4智94.31473zhe3者95.2581bu2不96.46148ji4计97.56595de2得98.85175shi1失99.77489zhi1织105.38745bu4布106.39301ji1机107.51397shi4是108.73363zhe4这110.0524li3里111.40384de1的112.54952ge1哥117.7746ge1哥118.73071bu4不119.90111shi2时121.01383de4地122.39029ji1激123.45355li4励124.81343ta1他126.16487ge1搁131.43546zhi2置132.39981zhe4这133.71033ge4个135.07032qi4契136.31875ji1机137.46443ta1他142.73477de4的143.67439li4荔144.90249zhi1枝146.22951qi1七147.46585zhe2折148.83792qi3起149.97536zhi4智155.05228zhe3者156.18147bu2不157.31067ji4计158.50546de2得159.9561shi1失160.77209ge1搁166.45879zhi2置167.47259zhe2这168.59355ge4个169.9865qi4契171.33794ji1机172.49186ji4记177.39144zhe3者178.22391bu2不179.46026de2得180.61419bu4不181.77635li2离182.75694zhi2职183.78723ta1他189.53566ge1哥190.57419bu4不191.71163li3理192.83259ta1他193.85464ge1哥199.36814ge4哥200.25831bu4不201.5029shi2时202.40956de1地203.87669ji1激204.9849li4励206.26246ta1他207.28451zhe4这213.28446li3里214.32299de1的215.61704ta3塔216.70467shi4是217.70199ge4个219.21034qi2奇220.36426zhi4智221.51818ta1他226.89557ji2极228.05773qi2其229.25287ji1机230.46449zhi4智231.77502ta1他236.60436qi2其237.56047shi2实238.62373bu4不239.83535zhi3止240.9563qi1七242.20913shi2十243.23917zhi1织249.14007bu4布250.27751ji1机251.33252shi4是252.39578zhe4这253.64037li3里255.11135de1的256.52078ge1搁262.53511zhi1置263.5077zhe4这264.71108ge4个266.12876qi4契267.2618ji1机268.48991ta1他273.46392de1的274.64646li4荔275.88281zhi1枝276.9131qi1七278.02971zhe2折279.39793qi3起280.51064ta1他285.60369ge1哥286.70816bu4不287.86209li3理289.19734ta1他290.58205ge1哥295.33307ge1哥296.41281bu4不297.54201shi2时298.55581de1地300.06416ji1激301.25929li4励302.66843ta1他304.0861ta1他309.25338ji2极310.39082qi2其311.73432ji1机313.11903zhi4智314.29768zhi1织319.11878bu4布320.29743ji1机321.31124shi4是322.34153zhe4这323.71799li3里325.03676de1的326.36338zhe4这331.43195li3里332.21497de1的333.43483ta3塔334.77008shi4是335.98995ge4个337.55599qi2奇338.90328ji4迹340.18908ta1他345.22044qi2其346.30018shi2实347.37992bu4不348.66572zhi3止349.77019qi1七350.9983shi2十352.23849ji4记357.67377zhe3者358.52273bu4不359.77556de2得360.94597bu4不362.22353li2离363.50488zhi2职364.85662zhi4智370.03639zhe3者371.17383bu2不372.20412ji4计373.4075de2得374.71802shi1失375.78952zhi1织381.68203bu4布382.90189ji1机383.86624shi4是385.07786zhe4这386.49554li3里387.75217de1的389.19457zhe4这394.24241li3里395.17379de1的396.45959ta3塔397.53934shi4是398.78393ge4个400.06149qi2奇401.12035ji4迹402.26603ta1他408.18336qi2其409.09001shi2实410.19448bu4不411.48028zhi3止412.78257qi1七414.20188shi2十415.16844ta1他420.50072ge1哥421.58871bu4不422.67669li3理423.79765ta1他424.95981ta1他429.78096ji2极430.93489qi2其432.05584ji1机433.23449zhi4智434.35545ge1搁439.90182zhi2置440.86617zhe4这441.92943ge4个443.19875qi4契444.46807ji1机445.75387ji4记450.71504zhe3者451.59697bu4不452.89925de2得453.93778bu4不454.92686li2离456.03957zhi2职457.41154ge1哥462.99114ge1哥463.96373bu4不465.18359shi2时466.29631de1地467.70574ji1激468.7728li4励470.20696ta1他471.64112ta1他476.98973de1的478.1519li4荔479.38zhi1枝480.45975qi1七481.77027zhe2折483.21268qi3起484.25091zhi4智489.05568zhe3者489.97882bu2不491.26462ji4计492.43503de2得493.72083shi1失494.61924<TextGrid None, 3 Tiers>\n",
      "ta1他54.4541ge1哥55.53662bu4不56.50111li3理57.55437ta1他58.4229ta1他64.17674de1的64.89864li4荔65.79213zhi1枝66.70337qi1七67.66195zhe2折69.08573qi3起70.48809zhe4这76.94672li3里77.56802de1的78.55865ta3塔79.5615shi4是80.586ge4个81.63214qi2奇82.75697ji4迹84.21318ta1他89.94524ji2极90.93366qi2其91.77778ji1机92.88164zhi4智93.97107ji4记100.12158zhe3者100.95128bu4不102.07678de2得103.23635bu4不104.61437li2离105.84809zhi2职106.96638ta1他112.16371qi2其113.02948shi2实113.93133bu4不115.04961zhi3止116.05246qi1七117.27176shi2十118.20079zhi4智124.59644zhe3者125.47664bu2不126.56607ji4计127.56892de2得128.70885shi1失129.71724zhi1织135.81725bu4布136.81289ji1机137.98889shi4是139.09275zhe4这140.47077li3里141.88302de1的143.21775ge1哥149.95971ge1哥150.67397bu4不151.39545shi2时152.02313de1地153.17028ji1激154.33035li4荔155.54243ta1他156.82665ge1搁161.85838zhi2置162.70972zhe4这163.93623ge4个165.19881qi4契166.48304ji1机167.62079ta1他175.02701de1的175.72684li4荔176.72969zhi1枝177.63154qi1七178.61274zhe2折179.73103qi3起180.84848zhi4智186.68742zhe3者187.54598bu2不188.65705ji4计189.61661de2得190.74933shi1失191.8099ge1搁197.88709zhi2置198.76008zhe4这199.95773ge4个201.14816qi4契202.33139ji1机203.47132ji4记208.91378zhe3者209.7074bu4不210.91227de2得212.06663bu4不213.17049li2离214.22384zhi2职215.43442ta1他221.05103ge1哥222.10439bu4不223.12889li3理224.44197ta1他225.49533ge1哥230.75087ge1哥231.80423bu4不232.95137shi2时233.93258de1地235.33712ji1激236.55641li4励237.83343ta1他238.92285zhe4这244.63964li3里245.52706de1的246.74635ta3塔247.81414shi4是248.88192ge4个250.15893qi2奇251.42806ji4迹252.46515ta1他258.16835ji2极259.05576qi2其260.21734ji1机261.27791zhi4智262.34569ta1他267.86802qi2其268.8853shi2实269.87372bu4不271.30946zhi3止272.31231qi1七273.3368shi2十274.27305ge1搁294.06064zhi2置295.07071zhe4这296.2395ge4个297.23514qi4契298.38228ji1机299.46283ta1他305.21015de1的306.33565li4荔307.41786zhi1枝308.42071qi1七309.28465zhe2折310.46065qi3起311.47793ta1他317.48348ge1哥318.46469bu4不319.51804li3理320.6724ta1他321.53817ge1哥327.16151ge1哥328.09221bu4不329.23936shi2时330.1412de1地331.31721ji1激332.25412li4励333.55278ta1他334.86469ta1他340.59087ji2极341.47829qi2其342.71067ji1机343.87946zhi4智345.04104zhi1织350.34038bu4布351.36487ji1机352.2595shi4是353.32562zhe4这354.50884li3里355.70649de1的356.89692zhe4这362.78703li3里363.78267de1的365.00196ta3塔366.09627shi4是367.05583ge4个368.34006qi2奇369.20583ji4迹370.57663ta1他376.41624qi2其377.29644shi2实378.52295bu4不379.86372zhi3止381.32832qi1七382.56204shi2十383.40617ji4记388.9644zhe3者389.70752bu4不390.83302de2得392.18218bu4不393.17061li2离394.3238zhi2职395.26172zhi4智401.33941zhe3者402.06438bu2不403.37672ji4计404.59608de2得405.91357shi1失406.79914zhi1织413.03857bu4布413.93103ji1机414.81123shi4是415.68422zhe4这416.91072li3里418.27431de1的419.54999zhe4这425.73607li3里426.61627de1的427.74899ta3塔428.73741shi4是429.7114ge4个431.05989qi2奇431.9401ji4迹433.15872bu4不442.72786zhi3止443.75957qi1七444.76242shi2十445.82215ta1他451.82082ge1哥452.93189bu4不454.07904li3理455.3777ta1他456.57401ta1他461.69247ji2极462.81076qi2其463.79197ji1机465.06898zhi4智466.2522ge1搁471.57235zhi2置472.47419zhe4这473.5059ge4个474.7252qi4契475.78577ji1机476.88962ji4记482.8945zhe3者483.69534bu4不484.97235de2得485.98963bu4不487.18007li2离488.28393zhi2职489.40071ge1哥495.23511ge1哥496.04316bu4不497.41263shi2时498.25676de1地499.53965ji1激500.57136li1励502.01431ta1他503.09652ta1他508.82741de1的509.78697li4荔510.96298zhi1枝512.11734qi1七513.18512zhe2折514.32338qi3起515.34788zhi4智520.92859zhe3者521.99637bu2不523.22288ji4计524.25459de2得525.68161shi1失526.47523<TextGrid None, 3 Tiers>\n",
      "ta1他19.31467ge1哥20.22716bu4不21.36734li3理22.29237ta1他23.21238ta1他28.93764de1的29.81833li4荔30.77766zhi1枝31.5722qi1七32.73895zhe2折33.88388qi3起35.29494zhe4这41.29644li3里42.04013de1的43.04491ta3塔43.90407shi4是44.92598ge4个46.08975qi2奇47.15103ji4迹48.5743ta1他55.20012ji2极56.08759qi2其56.92787ji1机58.01361zhi4智59.15601ji4记64.80436zhe3者65.74848bu4不66.52945de2得67.69824bu4不68.98968li2离70.38851zhi2职71.38264zhi4智90.53734zhe3者91.27912bu2不92.37576ji4计93.31368de2得94.26603shi1失95.13901zhi1织101.09405bu4布102.01754ji1机102.91217shi4是103.87173zhe4这105.0261li3里106.17174de1的107.39103ge1哥113.39841ge4哥114.32912bu4不115.29422shi2时116.20599de4地117.336ji1激118.53919li4励119.77291ta1他121.14371ge1搁126.94691zhi2置127.78382zhe4这128.75781ge4个129.86889qi4契130.9511ji1机132.01167ta1他149.27543de1的150.0907li4荔151.1714zhi1枝152.08768qi1七153.0256zhe2折154.2016qi3起155.34875zhi4智161.34087zhe3者162.11134bu2不163.17912ji4计163.92224de2得165.19204shi1失166.28013ge1搁172.6105zhi2置173.26704zhe4这174.39255ge4个175.3449qi4契176.34053ji1机177.50211ji4记183.49339zhe3者184.24372bu2不185.39087de2得186.39372bu4不187.45328li2离188.66536zhi2职190.04338ta1他196.14909ge1哥197.01486bu4不198.11872li3理199.10714ta1他200.13164ge1哥206.02141error label\n",
      "bu4不207.92611shi2时208.7053de1地209.85966ji1激210.92745li4励212.07359ta1他213.35782zhe4这219.31957li3里220.25027de1的221.41185ta3塔222.34255shi4是223.41033ge4个224.53584qi2奇225.94071ji4迹227.04456ta1他233.06504ji2极233.9741qi2其235.07795ji1机236.04473zhi4智237.17745ta1他243.67309qi2其244.17812shi2实245.28198bu4不246.48685zhi3止247.50413qi1七248.42762shi2十249.43768zhi1织255.67292bu4布256.6397ji1机257.64977shi4是258.81134zhe4这259.97292li3里261.06956de1的262.19389ge1搁268.40652zhi2置269.3412zhe4这270.45527ge4个271.61655qi4契272.72118ji1机273.7786ta1他279.4349de4的280.4794li4荔281.5557zhi1枝282.57536qi1七283.71775zhe2折284.87903qi3起285.75707ta1他291.31779ge1哥292.31857bu4不293.31934li3理294.339ta1他295.518ge1哥301.05537ge4哥301.91635bu4不303.07762shi2时304.00287de4地305.25856ji1激306.20268li4励307.45191ta1他308.71704ta1他349.40238ji2极350.2521qi2其351.10181ji1机352.09314zhi4智352.96174zhi1织359.01225bu4布360.00756ji1机361.07045shi4是361.94849zhe4这362.96814li3里364.19004de1的365.50122zhe4这371.29963li3里372.29494de1的373.40503ta3塔374.35314shi4是375.33105ge4个376.48289qi2奇377.96168ji4迹379.44396ta1他385.3729qi2其386.52473shi2实387.60104bu4不389.09673zhi3止390.24459qi1七391.51568shi2十392.81857ji4记397.73846zhe3者398.67314bu4不399.82498de2得400.99967bu4不402.05709li2离403.28446zhi2职404.47869zhi4智410.13234zhe3者411.00094bu2不412.29439ji4计413.33293de2得414.39035shi1失415.39113zhi1织422.0164bu4布422.99829ji1机424.04627shi4是425.18866zhe4这426.45379li3里427.58675de1的428.99117zhe4这434.01905li3里435.01038de1的436.19998ta3塔437.43679shi4是438.56974ge4个439.78767qi2奇440.85104ji4迹442.10657ta1他447.65123qi2其448.60479shi2实449.78495bu4不451.07841zhi3止452.21136qi1七453.25934shi2十454.53275ta1他459.85712ge1哥460.88622bu4不462.0443li3理463.19141ta1他464.13554ta1他469.7976ji2极470.92111qi2其472.10127ji1机473.2531zhi4智474.55367ge1搁479.67713zhi2置480.49735zhe4这481.51701ge4个482.71605qi4契483.86789ji1机485.35961ji4记490.71942zhe3者491.47472bu4不492.54158de2得493.6651bu4不494.75084li2离495.91244zhi2职497.08846ge1哥502.75867ge1哥503.69336bu4不504.75078shi2时505.70435de4地506.98836ji1激508.05523li4励509.51928ta1他510.64279ta1他516.51508de1的517.44976li4荔518.65825zhi1枝519.7912qi1七520.97582zhe2折522.21263qi3起523.31726zhi4智528.61861zhe3者529.67603bu2不530.92144ji4计532.05439de2得533.36673shi1失534.45248<TextGrid None, 3 Tiers>\n",
      "ta1他28.17427ge1哥29.11294bu4不30.27079li3理31.24205ta1他32.06689ta1他37.76684de4的38.57296li4荔39.55049zhi1枝40.31182qi1七41.35678zhe2折42.37936qi3起44.06777zhe4这49.95947li3里50.91179error label\n",
      "ta3塔52.78117shi4是53.86691ge4个55.11316qi2奇56.39485ji4迹57.8016ta1他63.59804ji2极64.57993qi2其65.46774ji1机66.56292zhi4智67.74755ji4记73.48552zhe3者74.30608bu4不75.43903de2得76.30763bu4不77.53499li2离78.56442zhi2职79.74458ta1他85.81249qi2其86.69053shi2实87.8518bu4不89.01308zhi3止90.11771qi1七91.19848shi2十92.15205zhi4智97.99602zhe3者98.91182bu2不100.03533ji4计101.05499de2得102.41195shi1失103.27369zhi1织109.32918bu4不110.34884ji1机111.27739shi4是112.31593zhe4这113.35447li3里114.55351de1的115.75255ge1哥121.8193ge1哥122.76343bu4不123.81141shi2时124.45342de1地125.73743ji1激126.82318li4励127.89451ta1他129.21629ge1搁135.45828zhi4置136.5157zhe4这137.5448ge4个138.82881qi4契139.78238ji1机140.97607ta1他149.47569de4的150.35716li4荔151.35794zhi1枝152.39548qi1七153.39154zhe2折154.7558qi3起156.06979zhi4智161.62195zhe3者162.55664bu2不163.87842ji4计165.04914de2得166.37091shi1失167.45666ge1搁172.71825zhi4置173.71902zhe4这174.69147ge4个175.97549qi4契177.2595ji1机178.63793ji4记183.63451zhe3者184.70468bu4不185.75266de1得186.86673bu4不188.23571li2离189.67078zhi2职191.1673ta1他195.62954ge1哥196.66808bu4不197.78215li3理198.79237ta1他199.87811ge1哥205.22053ge4哥206.25907bu4不207.58085shi2时208.53442de4地209.96005ji1激210.95139li4励212.18471ta1他213.78972zhe4这219.45696li3里220.67489de1的221.76063ta3塔222.96911shi4是224.30978ge4个225.79122qi2奇226.93362ji4迹228.43478ta1他233.13221ji2极234.14243qi2其235.44947ta1他242.98756qi2其243.93169shi2实245.07408bu4不246.47139zhi3止247.67988qi1七248.93557shi2十250.21195zhi1织255.14212bu4布256.21908ji1机257.21041shi4是258.31504zhe4这259.75011li3里260.89251de1的262.29842ge1搁269.57067zhi4置270.69419zhe4这271.79882ge4个272.99786qi4契274.26299ji1机275.54617ta1他280.73273de4的281.97815li4荔283.1111zhi1枝284.25349qi1七285.57527zhe2折286.97258qi3起288.13716ta1他293.05672ge1哥294.11414bu4不295.31319li3理296.46502ta1他297.85289ge1哥302.98843ge4哥304.09637bu4不305.16323shi2时305.96574de1地307.36305ji1激308.4488li4励309.75616ta1他310.94576ta1他316.52272ji2极317.44797qi2其318.61869ji1机319.84605zhi4智321.03565zhi1织326.14404bu4布327.14481ji1机328.12852shi4是329.31812zhe4这330.51716li3里331.60291de1的332.85479zhe4这338.44235li3里339.49033de1的340.68589ta3塔341.82829shi4是342.79129ge4个344.11307qi2奇345.28379ji4迹346.3861ta1他352.20439qi2其353.14852shi2实354.27203bu4不355.48052zhi3止356.81174qi1七358.1996shi2十359.38539bu4不366.74824de2得367.90952bu4不369.22186li2离370.50587zhi2职371.80114zhi4智376.83846zhe3者377.77315bu2不378.99107ji4计380.16179de2得381.57798shi1失382.57876zhi1织394.29469bu4布395.70144ji1机396.7211shi4是397.89182zhe4这399.17583li3里400.38199de1的401.93036zhe4这406.73546li3里407.83926de1的408.85891ta3塔410.13349shi4是411.20035ge4个412.7204qi2奇413.94842ji4迹415.48734ta1他420.42346qi2其421.47144shi2实422.57607bu4不424.02059zhi3止425.15354qi1七426.53197shi2十427.72222ta1他433.03385ge1哥434.18369bu4不435.48658li3理436.90277ta1他438.13014ta1他442.99338ji2极444.12633qi2其445.05158ji1机446.62827zhi4智447.71848ge1搁452.62214zhi4置453.4152zhe4这454.57648ge4个455.93602qi4契457.17399ji1机458.38694ji4记463.37176zhe3者464.42918bu4不465.71319de2得467.04441bu4不468.31898li2离469.55579zhi2职470.83864ge1哥475.87596ge4哥476.88618bu4不478.1041shi2时479.12376de4地480.71999ji1激481.78686li4励483.15733ta1他484.52483ta1他489.67511de1的490.78984li4荔491.92279zhi1枝493.18792qi1七494.44361zhe2折495.86924qi3起497.10373zhi4智501.95223zhe3者503.03797bu2不504.23701ji4计505.41717de2得506.76727shi1失507.79637"
     ]
    }
   ],
   "source": [
    "'''\n",
    "generate overt_mat,sylb_mat and baso_mat\n",
    "overt_mat contains the speech/rest state of each timepoint\n",
    "sylb_mat contain the onset timepoints of each syllable\n",
    "baso_mat contain the onset of each sentences, which are used for collecting baseline data\n",
    "detailed contents of the generated mat see follows\n",
    "'''\n",
    "overt_mat = False\n",
    "sylb_mat = False\n",
    "baso_mat = False\n",
    "\n",
    "for blockNum in [1,2,3,4]:\n",
    "    TG = tg.TextGrid.fromFile(path_raw+str(blockNum)+'sound_mat.TextGrid')\n",
    "    print(TG)\n",
    "    \n",
    "    windowTimeList = np.array(np.arange(TG[2][0].maxTime-earlystart,\n",
    "                                        TG[2][len(TG[2].intervals)-1].minTime-earlystart,\n",
    "                                        interval))\n",
    "    \n",
    "    temp_mat = np.zeros((5,len(windowTimeList)))\n",
    "    temp_mat[4,:] = np.ones(len(windowTimeList))* blockNum#overt_mat[4,:] = np.array(blockList)\n",
    "    temp_mat[1,:] = windowTimeList\n",
    "\n",
    "    for i in range(len(TG[0].intervals)):\n",
    "        if str(TG[0][i].mark)in['sil',]:\n",
    "            pass\n",
    "        elif str(TG[0][i].mark)in['?','','？']:\n",
    "            index1= windowTimeList>=TG[0][i].minTime\n",
    "            index2= windowTimeList<TG[0][i].maxTime\n",
    "            index=np.logical_and(index1,index2)\n",
    "            temp_mat[0][index]= np.nan\n",
    "        else: \n",
    "            #print(str(TG[0][i].mark),end='#')\n",
    "            index1= windowTimeList>=TG[0][i].minTime\n",
    "            index2= windowTimeList<TG[0][i].maxTime\n",
    "            index=np.logical_and(index1,index2)\n",
    "            temp_mat[0][index]= 1\n",
    "            \n",
    "    for i in range(len(TG[1].intervals)):\n",
    "        if TG[1][i].mark:\n",
    "            index1= windowTimeList>=TG[1][i].minTime-earlystart\n",
    "            index2= windowTimeList<TG[1][i].maxTime-earlystart\n",
    "            index=np.logical_and(index1,index2)\n",
    "            temp_mat[2][index] = TG[1][i].mark\n",
    "            #if blockNum==2:#######################################################################\n",
    "                #print(TG[1][i].mark,np.nanmean(index))\n",
    "    for i in range(len(TG[2].intervals)):\n",
    "        if TG[2][i].mark:\n",
    "            index1= windowTimeList>=TG[2][i].minTime-earlystart\n",
    "            index2= windowTimeList<TG[2][i].maxTime-earlystart\n",
    "            index=np.logical_and(index1,index2)\n",
    "            temp_mat[3][index] = TG[2][i].mark\n",
    "\n",
    "    valid_columns = np.all(~np.isnan(temp_mat), axis=0)\n",
    "    temp_mat = temp_mat[:, valid_columns]\n",
    "    \n",
    "    if overt_mat is not False:\n",
    "        overt_mat = np.hstack((overt_mat, temp_mat))\n",
    "    else:\n",
    "        overt_mat = temp_mat\n",
    "    \n",
    "    ################################################################################33\n",
    "    temp_mat = np.zeros((7,len(TG[0].intervals)))\n",
    "    temp_mat[4,:] = np.ones(len(TG[0].intervals))* blockNum#overt_mat[4,:] = np.array(blockList)\n",
    "    \n",
    "    for i in range(len(TG[0].intervals)):#\n",
    "        if str(TG[0][i].mark)=='':\n",
    "            temp_mat[0][i]=np.nan\n",
    "        elif str(TG[0][i].mark)[-1] not in charList:\n",
    "            if str(TG[0][i].mark)[-1] not in ['l','?','？']:\n",
    "                print('error label')\n",
    "            temp_mat[0][i]=np.nan\n",
    "        else:\n",
    "            #print(str(TG[0][i].mark),end='')\n",
    "            print(str(TG[0][i].mark),end='')\n",
    "            print(str(TG[0][i].minTime),end='')\n",
    "            temp_mat[0][i] = sylbList.index(str(TG[0][i].mark)[:-2])\n",
    "            temp_mat[5][i] = toneList.index(str(TG[0][i].mark)[-2:-1])\n",
    "            if str(TG[0][i].mark)[-1:] == '她':#some of the annotations make the mistake\n",
    "                temp_mat[6][i] = charList.index('他')\n",
    "            else:\n",
    "                temp_mat[6][i] = charList.index(str(TG[0][i].mark)[-1:])\n",
    "            temp_mat[1][i] = TG[0][i].minTime\n",
    "                        \n",
    "    for i in range(len(TG[1].intervals)):\n",
    "        if TG[1][i].mark:\n",
    "            index1= temp_mat[1]>=TG[1][i].minTime\n",
    "            index2= temp_mat[1]<TG[1][i].maxTime\n",
    "            index=np.logical_and(index1,index2)\n",
    "            temp_mat[2][index] = TG[1][i].mark\n",
    "            \n",
    "    for i in range(len(TG[2].intervals)):\n",
    "        if TG[2][i].mark:\n",
    "            index1=temp_mat[1]>=TG[2][i].minTime\n",
    "            index2=temp_mat[1]<TG[2][i].maxTime\n",
    "            index=np.logical_and(index1,index2)\n",
    "            temp_mat[3][index] = TG[2][i].mark\n",
    "                        \n",
    "    valid_columns = np.all(~np.isnan(temp_mat), axis=0)\n",
    "    temp_mat = temp_mat[:, valid_columns]              \n",
    "    if sylb_mat is not False:\n",
    "        sylb_mat = np.hstack((sylb_mat, temp_mat))\n",
    "    else:\n",
    "        sylb_mat = temp_mat\n",
    "\n",
    "    #################################################################################\n",
    "    temp_mat = np.zeros((5,len(TG[1].intervals)))\n",
    "    temp_mat[0,:] = np.ones(len(TG[1].intervals)) #baso_mat[0,:] = np.ones(len(TG[0].intervals))\n",
    "    temp_mat[4,:] = np.ones(len(TG[1].intervals))* blockNum #baso_mat[4,:] = np.array(basoBlockList)\n",
    "                        \n",
    "    for i in range(len(TG[1].intervals)):\n",
    "        if str(TG[1][i].mark)=='':\n",
    "            temp_mat[0][i]=np.nan\n",
    "        if str(TG[1][i].mark) not in ['1','2','3','4','5','6','7','8','9','10']:\n",
    "            temp_mat[0][i]=np.nan\n",
    "        else:\n",
    "            temp_mat[1][i]=TG[1][i].minTime\n",
    "            temp_mat[2][i]=TG[1][i].mark\n",
    "                        \n",
    "    for i in range(len(TG[2].intervals)):\n",
    "        if TG[2][i].mark:\n",
    "            index1=temp_mat[1]>=TG[2][i].minTime\n",
    "            index2=temp_mat[1]<TG[2][i].maxTime\n",
    "            index=np.logical_and(index1,index2)\n",
    "            temp_mat[3][index] = TG[2][i].mark\n",
    "            \n",
    "    valid_columns = np.all(~np.isnan(temp_mat), axis=0)\n",
    "    temp_mat = temp_mat[:, valid_columns]              \n",
    "    if baso_mat is not False:\n",
    "        baso_mat = np.hstack((baso_mat, temp_mat))\n",
    "    else:\n",
    "        baso_mat = temp_mat"
   ]
  },
  {
   "cell_type": "code",
   "execution_count": 8,
   "metadata": {
    "tags": []
   },
   "outputs": [
    {
     "name": "stdout",
     "output_type": "stream",
     "text": [
      "(5, 178692)\n",
      "[0. 0. 0. ... 1. 1. 1.]\n",
      "[ 22.2053   22.2153   22.2253  ... 506.77427 506.78427 506.79427]\n",
      "[1. 1. 1. ... 7. 7. 7.]\n",
      "[ 1.  1.  1. ... 16. 16. 16.]\n",
      "[1. 1. 1. ... 4. 4. 4.]\n",
      "(7, 1034)\n",
      "[ 24.2053   25.07445  26.36158 ... 505.41717 506.76727 507.79637]\n",
      "[8. 5. 4. ... 2. 1. 0.]\n",
      "[1. 1. 1. ... 7. 7. 7.]\n",
      "[ 1.  1.  1. ... 16. 16. 16.]\n",
      "[1. 1. 1. ... 4. 4. 4.]\n",
      "[0. 0. 3. ... 3. 1. 0.]\n",
      "[32. 21. 19. ... 12.  7.  0.]\n",
      "(5, 158)\n",
      "[1. 1. 1. 1. 1. 1. 1. 1. 1. 1. 1. 1. 1. 1. 1. 1. 1. 1. 1. 1. 1. 1. 1. 1.\n",
      " 1. 1. 1. 1. 1. 1. 1. 1. 1. 1. 1. 1. 1. 1. 1. 1. 1. 1. 1. 1. 1. 1. 1. 1.\n",
      " 1. 1. 1. 1. 1. 1. 1. 1. 1. 1. 1. 1. 1. 1. 1. 1. 1. 1. 1. 1. 1. 1. 1. 1.\n",
      " 1. 1. 1. 1. 1. 1. 1. 1. 1. 1. 1. 1. 1. 1. 1. 1. 1. 1. 1. 1. 1. 1. 1. 1.\n",
      " 1. 1. 1. 1. 1. 1. 1. 1. 1. 1. 1. 1. 1. 1. 1. 1. 1. 1. 1. 1. 1. 1. 1. 1.\n",
      " 1. 1. 1. 1. 1. 1. 1. 1. 1. 1. 1. 1. 1. 1. 1. 1. 1. 1. 1. 1. 1. 1. 1. 1.\n",
      " 1. 1. 1. 1. 1. 1. 1. 1. 1. 1. 1. 1. 1. 1.]\n",
      "[ 24.2053   33.95785  46.39973  59.7114   69.56057  81.78302  94.31473\n",
      " 105.38745 117.7746  131.43546 142.73477 155.05228 166.45879 177.39144\n",
      " 189.53566 199.36814 213.28446 226.89557 236.60436 249.14007 262.53511\n",
      " 273.46392 285.60369 295.33307 309.25338 319.11878 331.43195 345.22044\n",
      " 357.67377 370.03639 381.68203 394.24241 408.17512 420.50072 429.78096\n",
      " 439.90182 450.71504 462.99114 476.98973 489.05568  54.4541   64.17674\n",
      "  76.94672  89.94524 100.12158 112.16371 124.59644 135.81725 149.95971\n",
      " 161.85838 175.02701 186.68742 197.88709 208.91378 221.05103 230.75087\n",
      " 244.63964 258.16835 267.86802 294.06064 305.21015 317.48348 327.16151\n",
      " 340.59087 350.34038 362.78703 376.41624 388.9644  401.33941 413.03857\n",
      " 425.73607 440.67165 451.82082 461.69247 471.57235 482.8945  495.23511\n",
      " 508.82741 520.92859  19.31467  28.93764  41.29644  55.20012  64.80436\n",
      "  90.53734 101.09405 113.39841 126.94691 149.27543 161.34087 172.6105\n",
      " 183.49339 196.14909 206.02141 219.31957 233.06504 243.67309 255.67292\n",
      " 268.40652 279.4349  291.31779 301.05537 349.40238 359.01225 371.29963\n",
      " 385.3729  397.73846 410.13234 422.0164  434.01905 447.65123 459.85712\n",
      " 469.7976  479.67713 490.71942 502.75867 516.51508 528.61861  28.17427\n",
      "  37.76684  49.95947  63.59804  73.48552  85.81249  97.99602 109.32918\n",
      " 121.8193  135.45828 149.47569 161.62195 172.71825 183.63451 195.62954\n",
      " 205.22053 219.45696 233.13221 242.98756 255.14212 269.57067 280.73273\n",
      " 293.05672 302.98843 316.52272 326.14404 338.44235 352.20439 366.75273\n",
      " 376.83846 394.29469 406.73546 420.42346 433.03385 442.99338 452.62214\n",
      " 463.37176 475.87596 489.67511 501.95223]\n",
      "[ 1.  2.  6.  4.  8. 10.  7.  5.  3.  9.  2.  7.  9.  8.  1.  3.  6.  4.\n",
      " 10.  5.  9.  2.  1.  3.  4.  5.  6. 10.  8.  7.  5.  6. 10.  1.  4.  9.\n",
      "  8.  3.  2.  7.  1.  2.  6.  4.  8. 10.  7.  5.  3.  9.  2.  7.  9.  8.\n",
      "  1.  3.  6.  4. 10.  9.  2.  1.  3.  4.  5.  6. 10.  8.  7.  5.  6. 10.\n",
      "  1.  4.  9.  8.  3.  2.  7.  1.  2.  6.  4.  8.  7.  5.  3.  9.  2.  7.\n",
      "  9.  8.  1.  3.  6.  4. 10.  5.  9.  2.  1.  3.  4.  5.  6. 10.  8.  7.\n",
      "  5.  6. 10.  1.  4.  9.  8.  3.  2.  7.  1.  2.  6.  4.  8. 10.  7.  5.\n",
      "  3.  9.  2.  7.  9.  8.  1.  3.  6.  4. 10.  5.  9.  2.  1.  3.  4.  5.\n",
      "  6. 10.  8.  7.  5.  6. 10.  1.  4.  9.  8.  3.  2.  7.]\n",
      "[ 1.  1.  1.  1.  1.  1.  1.  1.  1.  1.  2.  2.  2.  2.  2.  2.  2.  2.\n",
      "  2.  2.  3.  3.  3.  3.  3.  3.  3.  3.  3.  3.  4.  4.  4.  4.  4.  4.\n",
      "  4.  4.  4.  4.  5.  5.  5.  5.  5.  5.  5.  5.  5.  5.  6.  6.  6.  6.\n",
      "  6.  6.  6.  6.  6.  7.  7.  7.  7.  7.  7.  7.  7.  7.  7.  8.  8.  8.\n",
      "  8.  8.  8.  8.  8.  8.  8.  9.  9.  9.  9.  9.  9.  9.  9.  9. 10. 10.\n",
      " 10. 10. 10. 10. 10. 10. 10. 10. 11. 11. 11. 11. 11. 11. 11. 11. 11. 11.\n",
      " 12. 12. 12. 12. 12. 12. 12. 12. 12. 12. 13. 13. 13. 13. 13. 13. 13. 13.\n",
      " 13. 13. 14. 14. 14. 14. 14. 14. 14. 14. 14. 14. 15. 15. 15. 15. 15. 15.\n",
      " 15. 15. 15. 15. 16. 16. 16. 16. 16. 16. 16. 16. 16. 16.]\n",
      "[1. 1. 1. 1. 1. 1. 1. 1. 1. 1. 1. 1. 1. 1. 1. 1. 1. 1. 1. 1. 1. 1. 1. 1.\n",
      " 1. 1. 1. 1. 1. 1. 1. 1. 1. 1. 1. 1. 1. 1. 1. 1. 2. 2. 2. 2. 2. 2. 2. 2.\n",
      " 2. 2. 2. 2. 2. 2. 2. 2. 2. 2. 2. 2. 2. 2. 2. 2. 2. 2. 2. 2. 2. 2. 2. 2.\n",
      " 2. 2. 2. 2. 2. 2. 2. 3. 3. 3. 3. 3. 3. 3. 3. 3. 3. 3. 3. 3. 3. 3. 3. 3.\n",
      " 3. 3. 3. 3. 3. 3. 3. 3. 3. 3. 3. 3. 3. 3. 3. 3. 3. 3. 3. 3. 3. 3. 4. 4.\n",
      " 4. 4. 4. 4. 4. 4. 4. 4. 4. 4. 4. 4. 4. 4. 4. 4. 4. 4. 4. 4. 4. 4. 4. 4.\n",
      " 4. 4. 4. 4. 4. 4. 4. 4. 4. 4. 4. 4. 4. 4.]\n"
     ]
    }
   ],
   "source": [
    "print(overt_mat.shape)\n",
    "print(overt_mat[0,:]) #label: speech is 1 and rest is 0\n",
    "print(overt_mat[1,:]) #timepoints: start from each block, unit is second\n",
    "print(overt_mat[2,:]) #this timepoint belongs to which type of sentence (from 1 to 10)\n",
    "print(overt_mat[3,:]) #this timepoint belongs to which trial (from 1 to 16)\n",
    "print(overt_mat[4,:]) #this timepoint belongs to which block (from 1 to 4)\n",
    "\n",
    "print(sylb_mat.shape)\n",
    "print(sylb_mat[1,:]) #label: ['shi', 'de', 'ji', 'li', 'bu', 'ge', 'qi', 'zhe', 'ta', 'zhi'] from 1 to 10\n",
    "print(sylb_mat[0,:]) #time of syllable onset: start from each block, unit is second\n",
    "print(sylb_mat[2,:]) #this syllable belongs to which type of sentence (from 1 to 10)\n",
    "print(sylb_mat[3,:]) #this syllable belongs to which trial (from 1 to 16)\n",
    "print(sylb_mat[4,:]) #this syllable belongs to which block (from 1 to 4)\n",
    "print(sylb_mat[5,:]) #the lexical tone of this syllable (from 1 to 4)\n",
    "print(sylb_mat[6,:]) #the Chinese character of this syllable (from 1 to 40)\n",
    "                     #['失', '十', '时', '实', '是', '的', '地', '得', '机', '激',\n",
    "                     #'极', '记', '计', '迹', '离', '里', '理', '励', '荔', '不',\n",
    "                     #'布', '哥', '搁', '个', '七', '奇', '其', '起', '契', '折',\n",
    "                     #'者', '这', '他', '塔', '织', '枝', '职', '止', '置', '智']\n",
    "                \n",
    "print(baso_mat.shape)\n",
    "print(baso_mat[0,:]) #label: all set as 1\n",
    "print(baso_mat[1,:]) #time of sentence onset: start from each block, unit is second\n",
    "print(baso_mat[2,:]) #the type of the sentence (from 1 to 10)\n",
    "print(baso_mat[3,:]) #this sentence belongs to which trial (from 1 to 16)\n",
    "print(baso_mat[4,:]) #this sentence belongs to which block (from 1 to 4)\n"
   ]
  },
  {
   "cell_type": "code",
   "execution_count": 9,
   "metadata": {
    "tags": []
   },
   "outputs": [],
   "source": [
    "np.save(subject+'_overt_mat',overt_mat)\n",
    "np.save(subject+'_sylb_mat',sylb_mat)\n",
    "#np.save(subject+'_baso_mat',baso_mat)"
   ]
  },
  {
   "cell_type": "code",
   "execution_count": 10,
   "metadata": {
    "tags": []
   },
   "outputs": [
    {
     "name": "stdout",
     "output_type": "stream",
     "text": [
      "select paraqraph:[13, 14, 15, 16] oppo\n",
      "read_ecog: (775, 256, 480)\n",
      "select paraqraph:[13, 14, 15, 16] oppo\n",
      "read_ecog: (118, 256, 560)\n"
     ]
    },
    {
     "name": "stderr",
     "output_type": "stream",
     "text": [
      "100%|██████████| 256/256 [01:41<00:00,  2.53it/s]"
     ]
    },
    {
     "name": "stdout",
     "output_type": "stream",
     "text": [
      "resp_elecs: [0, 1, 2, 5, 8, 9, 10, 12, 13, 14, 15, 29, 30, 31, 32, 45, 46, 48, 49, 53, 59, 61, 64, 68, 69, 75, 78, 80, 94, 95, 96, 100, 107, 110, 111, 112, 113, 114, 126, 127, 128, 130, 131, 133, 134, 135, 136, 137, 138, 139, 140, 142, 143, 150, 151, 152, 153, 154, 155, 156, 157, 158, 159, 165, 166, 167, 168, 169, 170, 171, 172, 173, 174, 175, 180, 181, 182, 183, 184, 185, 186, 187, 188, 189, 190, 191, 195, 197, 198, 199, 200, 202, 204, 205, 206, 211, 212, 213, 214, 215, 217, 219, 221, 222, 223, 224, 225, 226, 227, 228, 229, 230, 231, 232, 234, 236, 237, 238, 239, 242, 244, 245, 246, 247, 251, 252, 253, 254, 255]\n"
     ]
    },
    {
     "name": "stderr",
     "output_type": "stream",
     "text": [
      "\n"
     ]
    }
   ],
   "source": [
    "#get speech responsive elecs\n",
    "channelNum = 256\n",
    "sylb_back = 0.4\n",
    "sylb_forward = 0.8\n",
    "basoBack = 1.8\n",
    "overt_thres_length = 0.1\n",
    "P0= 0.01\n",
    "\n",
    "#use sylb_mat to generate ecog_mat of speech state\n",
    "sylb_ecog_mat,_,_,_ = read_ecog_mat(sylb_back,sylb_forward,sylb_mat,channelNum,key_elecs=[],\n",
    "        key_label=[],oppolabel=False,key_sentence=[],opposentence=False, key_paragraph=[13,14,15,16],oppoparagraph=True,\n",
    "        hz=hz, block=4) \n",
    "\n",
    "#use baso_mat to generate baso_ecog_mat of rest state\n",
    "baso_ecog_mat,_,_,_ = read_ecog_mat(basoBack,-sylb_back,baso_mat,channelNum,key_elecs=[],\n",
    "        key_label=[],oppolabel=False,key_sentence=[],opposentence=False, key_paragraph=[13,14,15,16],oppoparagraph=True,\n",
    "        hz=hz, block=4)\n",
    "\n",
    "plot = False #set true can see the ERP on each sig elec\n",
    "save = False #set [254,] can save the typical ERP, do not forget to minus 1, must set plot as Ture first\n",
    "resp_elecs = pick_resp_electrodes(baso_ecog_mat=baso_ecog_mat,resp_ecog_mat=sylb_ecog_mat,\n",
    "                        thres_length = overt_thres_length,channelNum=channelNum,P0=P0)"
   ]
  },
  {
   "cell_type": "code",
   "execution_count": 11,
   "metadata": {
    "tags": []
   },
   "outputs": [
    {
     "name": "stdout",
     "output_type": "stream",
     "text": [
      "[0, 1, 2, 5, 8, 9, 10, 12, 13, 14, 15, 29, 30, 31, 32, 45, 46, 48, 49, 53, 59, 61, 64, 68, 69, 75, 78, 80, 94, 95, 96, 100, 107, 110, 111, 112, 113, 114, 126, 127, 128, 130, 131, 133, 134, 135, 136, 137, 138, 139, 140, 142, 143, 150, 151, 152, 153, 154, 155, 156, 157, 158, 159, 165, 166, 167, 168, 169, 170, 171, 172, 173, 174, 175, 180, 181, 182, 183, 184, 185, 186, 187, 188, 189, 190, 191, 195, 197, 198, 199, 200, 202, 204, 205, 206, 211, 212, 213, 214, 215, 217, 219, 221, 222, 223, 224, 225, 226, 227, 228, 229, 230, 231, 232, 234, 236, 237, 238, 239, 242, 244, 245, 246, 247, 251, 252, 253, 254, 255] 129\n"
     ]
    },
    {
     "data": {
      "text/plain": [
       "'\\n0, 1, 2, 5, 8, 9, 10, 12, 13, 14, \\n15, 29, 30, 31, 32, 45, 46, 48, 49, 53, \\n59, 61, 64, 69, 75, 78, 80, 94, 95, 96, \\n100, 107, 110, 111, 112, 113, 114, 126, 127, 128,\\n130, 131, 133, 134, 135, 136, 137, 138, 139, 140, \\n142, 143, 146, 150, 151, 152, 153, 154, 155, 156, \\n157, 158, 159, 165, 166, 167, 168, 169, 170, 171, \\n172, 173, 174, 175, 180, 181, 182, 183, 184, 185, \\n186, 187, 188, 189, 190, 191, 195, 197, 198, 199, \\n200, 202, 204, 205, 206, 211, 212, 213, 214, 215, \\n217, 219, 221, 222, 223, 224, 225, 226, 227, 228, \\n229, 230, 231, 232, 234, 236, 237, 238, 239, 242, \\n244, 245, 246, 247, 251, 252, 253, 254, 255 #129\\n'"
      ]
     },
     "execution_count": 11,
     "metadata": {},
     "output_type": "execute_result"
    }
   ],
   "source": [
    "print(resp_elecs,len(resp_elecs))\n",
    "np.save(subject+'_resp_elecs',resp_elecs)\n",
    "'''\n",
    "0, 1, 2, 5, 8, 9, 10, 12, 13, 14, \n",
    "15, 29, 30, 31, 32, 45, 46, 48, 49, 53, \n",
    "59, 61, 64, 69, 75, 78, 80, 94, 95, 96, \n",
    "100, 107, 110, 111, 112, 113, 114, 126, 127, 128,\n",
    "130, 131, 133, 134, 135, 136, 137, 138, 139, 140, \n",
    "142, 143, 146, 150, 151, 152, 153, 154, 155, 156, \n",
    "157, 158, 159, 165, 166, 167, 168, 169, 170, 171, \n",
    "172, 173, 174, 175, 180, 181, 182, 183, 184, 185, \n",
    "186, 187, 188, 189, 190, 191, 195, 197, 198, 199, \n",
    "200, 202, 204, 205, 206, 211, 212, 213, 214, 215, \n",
    "217, 219, 221, 222, 223, 224, 225, 226, 227, 228, \n",
    "229, 230, 231, 232, 234, 236, 237, 238, 239, 242, \n",
    "244, 245, 246, 247, 251, 252, 253, 254, 255 #129\n",
    "'''"
   ]
  },
  {
   "cell_type": "code",
   "execution_count": 12,
   "metadata": {
    "tags": []
   },
   "outputs": [
    {
     "name": "stdout",
     "output_type": "stream",
     "text": [
      "select paraqraph:[13, 14, 15, 16] oppo\n",
      "read_ecog: (775, 256, 480)\n"
     ]
    },
    {
     "data": {
      "image/png": "[encoded data removed]",
      "text/plain": [
       "<Figure size 40x100 with 1 Axes>"
      ]
     },
     "metadata": {},
     "output_type": "display_data"
    },
    {
     "name": "stderr",
     "output_type": "stream",
     "text": [
      "100%|██████████| 256/256 [00:53<00:00,  4.78it/s]"
     ]
    },
    {
     "name": "stdout",
     "output_type": "stream",
     "text": [
      "disc_elecs: {0, 1, 2, 128, 5, 135, 8, 9, 136, 137, 138, 13, 14, 15, 139, 140, 142, 143, 150, 151, 152, 153, 154, 155, 156, 157, 158, 159, 32, 166, 167, 168, 169, 170, 171, 172, 173, 46, 174, 48, 49, 175, 180, 181, 182, 183, 184, 185, 186, 59, 187, 188, 189, 190, 64, 191, 197, 199, 201, 204, 214, 215, 95, 96, 226, 100, 231, 110, 111, 112, 242, 243, 254, 253, 126}\n"
     ]
    },
    {
     "name": "stderr",
     "output_type": "stream",
     "text": [
      "\n"
     ]
    }
   ],
   "source": [
    "sylb_thres_length = 0.2\n",
    "P01= 0.05\n",
    "sylb_back = 0.4\n",
    "sylb_forward = 0.8\n",
    "\n",
    "sylb_ecog_mat,_,_,mat = read_ecog_mat(sylb_back,sylb_forward,sylb_mat,channelNum,key_elecs=[],\n",
    "        key_label=[],oppolabel=False,key_sentence=[],opposentence=False, key_paragraph=[13,14,15,16],oppoparagraph=True,\n",
    "        hz=hz, block=4) \n",
    "plot = False #True\n",
    "save = False #[142,] must set plot as Ture first\n",
    "sylb_elecs = pick_disc_electrodes2(List=sylbList,mat=mat, ecog_mat=sylb_ecog_mat,thres_length=sylb_thres_length,\n",
    "                                  channelNum=channelNum,P0=P01)"
   ]
  },
  {
   "cell_type": "code",
   "execution_count": 13,
   "metadata": {
    "tags": []
   },
   "outputs": [
    {
     "name": "stdout",
     "output_type": "stream",
     "text": [
      "[  0   1   2   5   8   9  13  14  15  32  46  48  49  59  64  95  96 100\n",
      " 110 111 112 126 128 135 136 137 138 139 140 142 143 150 151 152 153 154\n",
      " 155 156 157 158 159 166 167 168 169 170 171 172 173 174 175 180 181 182\n",
      " 183 184 185 186 187 188 189 190 191 197 199 201 204 214 215 226 231 242\n",
      " 243 253 254]\n"
     ]
    },
    {
     "data": {
      "text/plain": [
       "'\\n0, 1, 2, 128, 5, 135, 8, 9, 136, 137,\\n138, 13, 14, 15, 139, 140, 142, 143, 150, 151,\\n152, 153, 154, 155, 156, 157, 158, 159, 32, 166,\\n167, 168, 169, 170, 171, 172, 173, 46, 174, 48,\\n49, 175, 180, 181, 182, 183, 184, 185, 186, 59,\\n187, 188, 189, 190, 191, 197, 199, 201, 204, 211,\\n214, 215, 95, 96, 226, 100, 231, 110, 111, 112,\\n242, 243, 254, 253, 126\\n'"
      ]
     },
     "execution_count": 13,
     "metadata": {},
     "output_type": "execute_result"
    }
   ],
   "source": [
    "print(sylb_elecs)\n",
    "np.save(subject+'_anovasylb_elecs',sylb_elecs)\n",
    "'''\n",
    "0, 1, 2, 128, 5, 135, 8, 9, 136, 137,\n",
    "138, 13, 14, 15, 139, 140, 142, 143, 150, 151,\n",
    "152, 153, 154, 155, 156, 157, 158, 159, 32, 166,\n",
    "167, 168, 169, 170, 171, 172, 173, 46, 174, 48,\n",
    "49, 175, 180, 181, 182, 183, 184, 185, 186, 59,\n",
    "187, 188, 189, 190, 191, 197, 199, 201, 204, 211,\n",
    "214, 215, 95, 96, 226, 100, 231, 110, 111, 112,\n",
    "242, 243, 254, 253, 126\n",
    "'''"
   ]
  },
  {
   "cell_type": "code",
   "execution_count": 14,
   "metadata": {
    "tags": []
   },
   "outputs": [
    {
     "name": "stdout",
     "output_type": "stream",
     "text": [
      "select paraqraph:[13, 14, 15, 16] oppo\n",
      "read_ecog: (775, 256, 400)\n"
     ]
    },
    {
     "data": {
      "image/png": "[encoded data removed]",
      "text/plain": [
       "<Figure size 40x100 with 1 Axes>"
      ]
     },
     "metadata": {},
     "output_type": "display_data"
    },
    {
     "name": "stderr",
     "output_type": "stream",
     "text": [
      "100%|██████████| 256/256 [00:24<00:00, 10.35it/s]"
     ]
    },
    {
     "name": "stdout",
     "output_type": "stream",
     "text": [
      "disc_elecs: {0, 1, 2, 5, 8, 9, 136, 137, 13, 14, 15, 151, 152, 156, 32, 166, 167, 168, 171, 172, 46, 174, 48, 181, 183, 59, 188, 189, 197, 198, 199, 75, 204, 78, 211, 214, 95, 96, 226, 100, 228, 230, 110, 111, 112, 242, 253, 254}\n"
     ]
    },
    {
     "name": "stderr",
     "output_type": "stream",
     "text": [
      "\n"
     ]
    }
   ],
   "source": [
    "tone_thres_length = 0.1\n",
    "P02= 0.05\n",
    "tone_back = 0.5\n",
    "tone_forward = 0.5\n",
    "channelNum = 256\n",
    "\n",
    "tone_ecog_mat,_,_,mat = read_ecog_mat(tone_back,tone_forward,sylb_mat,channelNum,key_elecs=[],\n",
    "        key_label=[],oppolabel=False,key_sentence=[],opposentence=False, key_paragraph=[13,14,15,16],oppoparagraph=True,\n",
    "        hz=hz, block=4) \n",
    "plot = False #True\n",
    "save = False #[254,]\n",
    "tone_elecs = pick_disc_electrodes3(List=toneList,mat=mat, ecog_mat=tone_ecog_mat,thres_length=tone_thres_length,\n",
    "                                channelNum=channelNum,P0=P02,row=5)"
   ]
  },
  {
   "cell_type": "code",
   "execution_count": 15,
   "metadata": {
    "tags": []
   },
   "outputs": [
    {
     "name": "stdout",
     "output_type": "stream",
     "text": [
      "[  0   1   2   5   8   9  13  14  15  32  46  48  59  75  78  95  96 100\n",
      " 110 111 112 136 137 151 152 156 166 167 168 171 172 174 181 183 188 189\n",
      " 197 198 199 204 211 214 226 228 230 242 253 254]\n"
     ]
    },
    {
     "data": {
      "text/plain": [
       "'\\n0, 1, 2, 5, 8, 9, 136, 137, 13, 14,\\n15, 151, 152, 156, 32, 166, 167, 168, 171, 172,\\n46, 174, 48, 181, 183, 59, 189, 197, 198, 199,\\n204, 78, 214, 95, 96, 226, 100, 228, 230, 110,\\n111, 112, 242, 253, 254\\n'"
      ]
     },
     "execution_count": 15,
     "metadata": {},
     "output_type": "execute_result"
    }
   ],
   "source": [
    "print(tone_elecs)\n",
    "np.save(subject+'_anovatone_elecs',tone_elecs)\n",
    "'''\n",
    "0, 1, 2, 5, 8, 9, 136, 137, 13, 14,\n",
    "15, 151, 152, 156, 32, 166, 167, 168, 171, 172,\n",
    "46, 174, 48, 181, 183, 59, 189, 197, 198, 199,\n",
    "204, 78, 214, 95, 96, 226, 100, 228, 230, 110,\n",
    "111, 112, 242, 253, 254\n",
    "'''"
   ]
  },
  {
   "cell_type": "code",
   "execution_count": null,
   "metadata": {},
   "outputs": [],
   "source": []
  },
  {
   "cell_type": "code",
   "execution_count": 2,
   "metadata": {
    "tags": []
   },
   "outputs": [],
   "source": [
    "#load elecs back for 2D plot\n",
    "'''\n",
    "subject='PA4'\n",
    "resp_elecs = np.load(subject+'_resp_elecs.npy')\n",
    "sylb_elecs = np.load(subject+'_anovasylb_elecs.npy')\n",
    "tone_elecs = np.load(subject+'_anovatone_elecs.npy')\n",
    "'''"
   ]
  },
  {
   "cell_type": "code",
   "execution_count": 16,
   "metadata": {
    "tags": []
   },
   "outputs": [],
   "source": [
    "Brain2D_path = './2D_brain/'\n",
    "\n",
    "import matplotlib.image as mpimg\n",
    "import scipy.io as sio\n",
    "import matplotlib.pyplot as plt\n",
    "from matplotlib_venn import venn3, venn3_circles\n",
    "\n",
    "img = mpimg.imread(Brain2D_path + subject + \"_brain2D.png\")\n",
    "xy = sio.loadmat(Brain2D_path + subject + \"_elec_pos2D.mat\")['elecmatrix']"
   ]
  },
  {
   "cell_type": "code",
   "execution_count": 17,
   "metadata": {
    "tags": []
   },
   "outputs": [
    {
     "data": {
      "image/png": "[encoded data removed]",
      "text/plain": [
       "<Figure size 400x400 with 1 Axes>"
      ]
     },
     "metadata": {},
     "output_type": "display_data"
    }
   ],
   "source": [
    "n_chans = 256\n",
    "save = False\n",
    "fig, ax = plt.subplots(figsize=(4, 4))\n",
    "ax.imshow(img)\n",
    "bad_elecs = []\n",
    "bad_elecs = [1,2,3,4,6,9,10,14,15,16,31,32,33,47,48,49,70,76,78,79,80,81,96,\n",
    "             97,101,112,113,115,145,207,208,209,241,]################start from 0 be careful\n",
    "resp_elecs_set = set(resp_elecs)\n",
    "tone_elecs_set = set(tone_elecs)\n",
    "sylb_elecs_set = set(sylb_elecs)\n",
    "bad_elecs_set = set(bad_elecs)\n",
    "\n",
    "# Filter out the numbers in resp_elecs, tone_elecs, sylb_elecs, and bad_elecs from range(256)\n",
    "valid_indices = [i for i in range(n_chans) if i not in (resp_elecs_set | tone_elecs_set | sylb_elecs_set | bad_elecs_set)]\n",
    "\n",
    "for i in valid_indices:\n",
    "    ax.plot(xy[i][0], xy[i][1], 'k.', markersize=1.5) \n",
    "    #ax.text(xy[i][0], xy[i][1], str(i),fontsize=8)\n",
    "for i in resp_elecs:\n",
    "    ax.plot(xy[i][0], xy[i][1], 'yo', alpha=0.8, markersize=2.5) \n",
    "    #ax.text(xy[i][0], xy[i][1], str(i),fontsize=8)\n",
    "for i in tone_elecs:\n",
    "    ax.plot(xy[i][0], xy[i][1], 'ro', alpha = 0.5, markersize=2.5) \n",
    "    #ax.text(xy[i][0], xy[i][1], str(i),fontsize=8)\n",
    "for i in sylb_elecs:\n",
    "    ax.plot(xy[i][0], xy[i][1], 'bo', alpha = 0.3, markersize=2.5) \n",
    "    #ax.text(xy[i][0], xy[i][1], str(i),fontsize=8)\n",
    "ax.axis(\"off\")\n",
    "if save:\n",
    "    plt.savefig(subject+\"_2D_elecs.svg\", format=\"svg\", dpi=300)"
   ]
  },
  {
   "cell_type": "code",
   "execution_count": 18,
   "metadata": {
    "tags": []
   },
   "outputs": [
    {
     "data": {
      "image/png": "[encoded data removed]",
      "text/plain": [
       "<Figure size 250x250 with 1 Axes>"
      ]
     },
     "metadata": {},
     "output_type": "display_data"
    }
   ],
   "source": [
    "# Create subsets for the Venn diagram\n",
    "only_resp = set(resp_elecs) - set(tone_elecs) - set(sylb_elecs)\n",
    "only_tone = set(tone_elecs) - set(resp_elecs) - set(sylb_elecs)\n",
    "only_sylb = set(sylb_elecs) - set(resp_elecs) - set(tone_elecs)\n",
    "overlap_resp_tone = set(resp_elecs) & set(tone_elecs) - set(sylb_elecs)\n",
    "overlap_resp_sylb = set(resp_elecs) & set(sylb_elecs) - set(tone_elecs)\n",
    "overlap_tone_sylb = set(tone_elecs) & set(sylb_elecs) - set(resp_elecs)\n",
    "overlap_all = set(resp_elecs) & set(tone_elecs) & set(sylb_elecs)\n",
    "\n",
    "plt.figure(figsize=(2.5,2.5))\n",
    "# Create a Venn diagram plot\n",
    "venn_plot = venn3(subsets=(len(only_resp), len(only_tone), len(overlap_resp_tone),\n",
    "                           len(only_sylb), len(overlap_resp_sylb), len(overlap_tone_sylb),\n",
    "                           len(overlap_all)), set_labels=('   ', '  ', ' '))\n",
    "\n",
    "# Customize plot elements (colors, alpha, etc.)\n",
    "venn_plot_circles = venn3_circles(subsets=(len(only_resp), len(only_tone), len(overlap_resp_tone),\n",
    "                                           len(only_sylb), len(overlap_resp_sylb), len(overlap_tone_sylb),\n",
    "                                           len(overlap_all)))\n",
    "\n",
    "# Set circle colors\n",
    "venn_plot_circles[0].set_color('y')\n",
    "venn_plot_circles[0].set_alpha(0.8)\n",
    "venn_plot_circles[1].set_color('r')\n",
    "venn_plot_circles[1].set_alpha(0.5)\n",
    "venn_plot_circles[2].set_color('b')\n",
    "venn_plot_circles[2].set_alpha(0.3)\n",
    "\n",
    "for text in venn_plot.set_labels:\n",
    "    text.set_fontsize(10)\n",
    "\n",
    "# Save the plot as an SVG with transparent background\n",
    "if save:\n",
    "    plt.savefig(subject + '_venn_diagram.svg', transparent =True, dpi=300)\n",
    "# Show the plot\n",
    "plt.show()"
   ]
  },
  {
   "cell_type": "code",
   "execution_count": null,
   "metadata": {},
   "outputs": [],
   "source": []
  }
 ],
 "metadata": {
  "interpreter": {
   "hash": "b9ea9ba5ae74b1398a630feb3651b8acb263e18aa2ea7db4a76df02121bff196"
  },
  "kernelspec": {
   "display_name": "Python 3.7.16",
   "language": "python",
   "name": "python3.7.16"
  },
  "language_info": {
   "codemirror_mode": {
    "name": "ipython",
    "version": 3
   },
   "file_extension": ".py",
   "mimetype": "text/x-python",
   "name": "python",
   "nbconvert_exporter": "python",
   "pygments_lexer": "ipython3",
   "version": "3.7.16"
  },
  "toc-showcode": true
 },
 "nbformat": 4,
 "nbformat_minor": 4
}
